{
  "cells": [
    {
      "cell_type": "code",
      "execution_count": 2,
      "metadata": {
        "id": "hRlrBXeFAuFK"
      },
      "outputs": [],
      "source": [
        "import re\n",
        "import pandas as pd\n",
        "import pyttsx3\n",
        "from sklearn import preprocessing\n",
        "from sklearn.tree import DecisionTreeClassifier,_tree\n",
        "import numpy as np\n",
        "from sklearn.model_selection import train_test_split\n",
        "from sklearn.model_selection import cross_val_score\n",
        "from sklearn.svm import SVC\n",
        "import csv\n",
        "import warnings"
      ]
    },
    {
      "cell_type": "code",
      "execution_count": 3,
      "metadata": {
        "id": "iDMipAgdBKqz"
      },
      "outputs": [],
      "source": [
        "warnings.filterwarnings(\"ignore\", category=DeprecationWarning)"
      ]
    },
    {
      "cell_type": "code",
      "execution_count": 1,
      "metadata": {
        "colab": {
          "base_uri": "https://localhost:8080/"
        },
        "id": "LG9-FRB8d_Hy",
        "outputId": "a92f0fb4-ed5d-480f-9f7a-6af462464068"
      },
      "outputs": [
        {
          "name": "stdout",
          "output_type": "stream",
          "text": [
            "Requirement already satisfied: pyttsx3 in c:\\users\\mismitha gowda\\appdata\\local\\programs\\python\\python310\\lib\\site-packages (2.90)\n",
            "Requirement already satisfied: comtypes in c:\\users\\mismitha gowda\\appdata\\local\\programs\\python\\python310\\lib\\site-packages (from pyttsx3) (1.1.14)\n",
            "Requirement already satisfied: pywin32 in c:\\users\\mismitha gowda\\appdata\\local\\programs\\python\\python310\\lib\\site-packages (from pyttsx3) (304)\n",
            "Requirement already satisfied: pypiwin32 in c:\\users\\mismitha gowda\\appdata\\local\\programs\\python\\python310\\lib\\site-packages (from pyttsx3) (223)\n"
          ]
        }
      ],
      "source": [
        "!pip install pyttsx3\n"
      ]
    },
    {
      "cell_type": "code",
      "execution_count": 4,
      "metadata": {
        "id": "bldgL-LoBW2S"
      },
      "outputs": [
        {
          "ename": "FileNotFoundError",
          "evalue": "[Errno 2] No such file or directory: '/content/Training.csv'",
          "output_type": "error",
          "traceback": [
            "\u001b[1;31m---------------------------------------------------------------------------\u001b[0m",
            "\u001b[1;31mFileNotFoundError\u001b[0m                         Traceback (most recent call last)",
            "\u001b[1;32mc:\\Users\\mismitha gowda\\Dropbox\\My PC (DESKTOP-N4CC8P1)\\Downloads\\Copy_of_working1.ipynb Cell 4\u001b[0m in \u001b[0;36m<cell line: 1>\u001b[1;34m()\u001b[0m\n\u001b[1;32m----> <a href='vscode-notebook-cell:/c%3A/Users/mismitha%20gowda/Dropbox/My%20PC%20%28DESKTOP-N4CC8P1%29/Downloads/Copy_of_working1.ipynb#W3sZmlsZQ%3D%3D?line=0'>1</a>\u001b[0m training \u001b[39m=\u001b[39m pd\u001b[39m.\u001b[39;49mread_csv(\u001b[39m'\u001b[39;49m\u001b[39m/content/Training.csv\u001b[39;49m\u001b[39m'\u001b[39;49m)\n\u001b[0;32m      <a href='vscode-notebook-cell:/c%3A/Users/mismitha%20gowda/Dropbox/My%20PC%20%28DESKTOP-N4CC8P1%29/Downloads/Copy_of_working1.ipynb#W3sZmlsZQ%3D%3D?line=1'>2</a>\u001b[0m testing\u001b[39m=\u001b[39m pd\u001b[39m.\u001b[39mread_csv(\u001b[39m'\u001b[39m\u001b[39m/content/Testing.csv\u001b[39m\u001b[39m'\u001b[39m)\n\u001b[0;32m      <a href='vscode-notebook-cell:/c%3A/Users/mismitha%20gowda/Dropbox/My%20PC%20%28DESKTOP-N4CC8P1%29/Downloads/Copy_of_working1.ipynb#W3sZmlsZQ%3D%3D?line=2'>3</a>\u001b[0m cols\u001b[39m=\u001b[39m training\u001b[39m.\u001b[39mcolumns\n",
            "File \u001b[1;32mc:\\Users\\mismitha gowda\\AppData\\Local\\Programs\\Python\\Python310\\lib\\site-packages\\pandas\\util\\_decorators.py:311\u001b[0m, in \u001b[0;36mdeprecate_nonkeyword_arguments.<locals>.decorate.<locals>.wrapper\u001b[1;34m(*args, **kwargs)\u001b[0m\n\u001b[0;32m    305\u001b[0m \u001b[39mif\u001b[39;00m \u001b[39mlen\u001b[39m(args) \u001b[39m>\u001b[39m num_allow_args:\n\u001b[0;32m    306\u001b[0m     warnings\u001b[39m.\u001b[39mwarn(\n\u001b[0;32m    307\u001b[0m         msg\u001b[39m.\u001b[39mformat(arguments\u001b[39m=\u001b[39marguments),\n\u001b[0;32m    308\u001b[0m         \u001b[39mFutureWarning\u001b[39;00m,\n\u001b[0;32m    309\u001b[0m         stacklevel\u001b[39m=\u001b[39mstacklevel,\n\u001b[0;32m    310\u001b[0m     )\n\u001b[1;32m--> 311\u001b[0m \u001b[39mreturn\u001b[39;00m func(\u001b[39m*\u001b[39margs, \u001b[39m*\u001b[39m\u001b[39m*\u001b[39mkwargs)\n",
            "File \u001b[1;32mc:\\Users\\mismitha gowda\\AppData\\Local\\Programs\\Python\\Python310\\lib\\site-packages\\pandas\\io\\parsers\\readers.py:678\u001b[0m, in \u001b[0;36mread_csv\u001b[1;34m(filepath_or_buffer, sep, delimiter, header, names, index_col, usecols, squeeze, prefix, mangle_dupe_cols, dtype, engine, converters, true_values, false_values, skipinitialspace, skiprows, skipfooter, nrows, na_values, keep_default_na, na_filter, verbose, skip_blank_lines, parse_dates, infer_datetime_format, keep_date_col, date_parser, dayfirst, cache_dates, iterator, chunksize, compression, thousands, decimal, lineterminator, quotechar, quoting, doublequote, escapechar, comment, encoding, encoding_errors, dialect, error_bad_lines, warn_bad_lines, on_bad_lines, delim_whitespace, low_memory, memory_map, float_precision, storage_options)\u001b[0m\n\u001b[0;32m    663\u001b[0m kwds_defaults \u001b[39m=\u001b[39m _refine_defaults_read(\n\u001b[0;32m    664\u001b[0m     dialect,\n\u001b[0;32m    665\u001b[0m     delimiter,\n\u001b[1;32m   (...)\u001b[0m\n\u001b[0;32m    674\u001b[0m     defaults\u001b[39m=\u001b[39m{\u001b[39m\"\u001b[39m\u001b[39mdelimiter\u001b[39m\u001b[39m\"\u001b[39m: \u001b[39m\"\u001b[39m\u001b[39m,\u001b[39m\u001b[39m\"\u001b[39m},\n\u001b[0;32m    675\u001b[0m )\n\u001b[0;32m    676\u001b[0m kwds\u001b[39m.\u001b[39mupdate(kwds_defaults)\n\u001b[1;32m--> 678\u001b[0m \u001b[39mreturn\u001b[39;00m _read(filepath_or_buffer, kwds)\n",
            "File \u001b[1;32mc:\\Users\\mismitha gowda\\AppData\\Local\\Programs\\Python\\Python310\\lib\\site-packages\\pandas\\io\\parsers\\readers.py:575\u001b[0m, in \u001b[0;36m_read\u001b[1;34m(filepath_or_buffer, kwds)\u001b[0m\n\u001b[0;32m    572\u001b[0m _validate_names(kwds\u001b[39m.\u001b[39mget(\u001b[39m\"\u001b[39m\u001b[39mnames\u001b[39m\u001b[39m\"\u001b[39m, \u001b[39mNone\u001b[39;00m))\n\u001b[0;32m    574\u001b[0m \u001b[39m# Create the parser.\u001b[39;00m\n\u001b[1;32m--> 575\u001b[0m parser \u001b[39m=\u001b[39m TextFileReader(filepath_or_buffer, \u001b[39m*\u001b[39m\u001b[39m*\u001b[39mkwds)\n\u001b[0;32m    577\u001b[0m \u001b[39mif\u001b[39;00m chunksize \u001b[39mor\u001b[39;00m iterator:\n\u001b[0;32m    578\u001b[0m     \u001b[39mreturn\u001b[39;00m parser\n",
            "File \u001b[1;32mc:\\Users\\mismitha gowda\\AppData\\Local\\Programs\\Python\\Python310\\lib\\site-packages\\pandas\\io\\parsers\\readers.py:932\u001b[0m, in \u001b[0;36mTextFileReader.__init__\u001b[1;34m(self, f, engine, **kwds)\u001b[0m\n\u001b[0;32m    929\u001b[0m     \u001b[39mself\u001b[39m\u001b[39m.\u001b[39moptions[\u001b[39m\"\u001b[39m\u001b[39mhas_index_names\u001b[39m\u001b[39m\"\u001b[39m] \u001b[39m=\u001b[39m kwds[\u001b[39m\"\u001b[39m\u001b[39mhas_index_names\u001b[39m\u001b[39m\"\u001b[39m]\n\u001b[0;32m    931\u001b[0m \u001b[39mself\u001b[39m\u001b[39m.\u001b[39mhandles: IOHandles \u001b[39m|\u001b[39m \u001b[39mNone\u001b[39;00m \u001b[39m=\u001b[39m \u001b[39mNone\u001b[39;00m\n\u001b[1;32m--> 932\u001b[0m \u001b[39mself\u001b[39m\u001b[39m.\u001b[39m_engine \u001b[39m=\u001b[39m \u001b[39mself\u001b[39;49m\u001b[39m.\u001b[39;49m_make_engine(f, \u001b[39mself\u001b[39;49m\u001b[39m.\u001b[39;49mengine)\n",
            "File \u001b[1;32mc:\\Users\\mismitha gowda\\AppData\\Local\\Programs\\Python\\Python310\\lib\\site-packages\\pandas\\io\\parsers\\readers.py:1216\u001b[0m, in \u001b[0;36mTextFileReader._make_engine\u001b[1;34m(self, f, engine)\u001b[0m\n\u001b[0;32m   1212\u001b[0m     mode \u001b[39m=\u001b[39m \u001b[39m\"\u001b[39m\u001b[39mrb\u001b[39m\u001b[39m\"\u001b[39m\n\u001b[0;32m   1213\u001b[0m \u001b[39m# error: No overload variant of \"get_handle\" matches argument types\u001b[39;00m\n\u001b[0;32m   1214\u001b[0m \u001b[39m# \"Union[str, PathLike[str], ReadCsvBuffer[bytes], ReadCsvBuffer[str]]\"\u001b[39;00m\n\u001b[0;32m   1215\u001b[0m \u001b[39m# , \"str\", \"bool\", \"Any\", \"Any\", \"Any\", \"Any\", \"Any\"\u001b[39;00m\n\u001b[1;32m-> 1216\u001b[0m \u001b[39mself\u001b[39m\u001b[39m.\u001b[39mhandles \u001b[39m=\u001b[39m get_handle(  \u001b[39m# type: ignore[call-overload]\u001b[39;49;00m\n\u001b[0;32m   1217\u001b[0m     f,\n\u001b[0;32m   1218\u001b[0m     mode,\n\u001b[0;32m   1219\u001b[0m     encoding\u001b[39m=\u001b[39;49m\u001b[39mself\u001b[39;49m\u001b[39m.\u001b[39;49moptions\u001b[39m.\u001b[39;49mget(\u001b[39m\"\u001b[39;49m\u001b[39mencoding\u001b[39;49m\u001b[39m\"\u001b[39;49m, \u001b[39mNone\u001b[39;49;00m),\n\u001b[0;32m   1220\u001b[0m     compression\u001b[39m=\u001b[39;49m\u001b[39mself\u001b[39;49m\u001b[39m.\u001b[39;49moptions\u001b[39m.\u001b[39;49mget(\u001b[39m\"\u001b[39;49m\u001b[39mcompression\u001b[39;49m\u001b[39m\"\u001b[39;49m, \u001b[39mNone\u001b[39;49;00m),\n\u001b[0;32m   1221\u001b[0m     memory_map\u001b[39m=\u001b[39;49m\u001b[39mself\u001b[39;49m\u001b[39m.\u001b[39;49moptions\u001b[39m.\u001b[39;49mget(\u001b[39m\"\u001b[39;49m\u001b[39mmemory_map\u001b[39;49m\u001b[39m\"\u001b[39;49m, \u001b[39mFalse\u001b[39;49;00m),\n\u001b[0;32m   1222\u001b[0m     is_text\u001b[39m=\u001b[39;49mis_text,\n\u001b[0;32m   1223\u001b[0m     errors\u001b[39m=\u001b[39;49m\u001b[39mself\u001b[39;49m\u001b[39m.\u001b[39;49moptions\u001b[39m.\u001b[39;49mget(\u001b[39m\"\u001b[39;49m\u001b[39mencoding_errors\u001b[39;49m\u001b[39m\"\u001b[39;49m, \u001b[39m\"\u001b[39;49m\u001b[39mstrict\u001b[39;49m\u001b[39m\"\u001b[39;49m),\n\u001b[0;32m   1224\u001b[0m     storage_options\u001b[39m=\u001b[39;49m\u001b[39mself\u001b[39;49m\u001b[39m.\u001b[39;49moptions\u001b[39m.\u001b[39;49mget(\u001b[39m\"\u001b[39;49m\u001b[39mstorage_options\u001b[39;49m\u001b[39m\"\u001b[39;49m, \u001b[39mNone\u001b[39;49;00m),\n\u001b[0;32m   1225\u001b[0m )\n\u001b[0;32m   1226\u001b[0m \u001b[39massert\u001b[39;00m \u001b[39mself\u001b[39m\u001b[39m.\u001b[39mhandles \u001b[39mis\u001b[39;00m \u001b[39mnot\u001b[39;00m \u001b[39mNone\u001b[39;00m\n\u001b[0;32m   1227\u001b[0m f \u001b[39m=\u001b[39m \u001b[39mself\u001b[39m\u001b[39m.\u001b[39mhandles\u001b[39m.\u001b[39mhandle\n",
            "File \u001b[1;32mc:\\Users\\mismitha gowda\\AppData\\Local\\Programs\\Python\\Python310\\lib\\site-packages\\pandas\\io\\common.py:786\u001b[0m, in \u001b[0;36mget_handle\u001b[1;34m(path_or_buf, mode, encoding, compression, memory_map, is_text, errors, storage_options)\u001b[0m\n\u001b[0;32m    781\u001b[0m \u001b[39melif\u001b[39;00m \u001b[39misinstance\u001b[39m(handle, \u001b[39mstr\u001b[39m):\n\u001b[0;32m    782\u001b[0m     \u001b[39m# Check whether the filename is to be opened in binary mode.\u001b[39;00m\n\u001b[0;32m    783\u001b[0m     \u001b[39m# Binary mode does not support 'encoding' and 'newline'.\u001b[39;00m\n\u001b[0;32m    784\u001b[0m     \u001b[39mif\u001b[39;00m ioargs\u001b[39m.\u001b[39mencoding \u001b[39mand\u001b[39;00m \u001b[39m\"\u001b[39m\u001b[39mb\u001b[39m\u001b[39m\"\u001b[39m \u001b[39mnot\u001b[39;00m \u001b[39min\u001b[39;00m ioargs\u001b[39m.\u001b[39mmode:\n\u001b[0;32m    785\u001b[0m         \u001b[39m# Encoding\u001b[39;00m\n\u001b[1;32m--> 786\u001b[0m         handle \u001b[39m=\u001b[39m \u001b[39mopen\u001b[39;49m(\n\u001b[0;32m    787\u001b[0m             handle,\n\u001b[0;32m    788\u001b[0m             ioargs\u001b[39m.\u001b[39;49mmode,\n\u001b[0;32m    789\u001b[0m             encoding\u001b[39m=\u001b[39;49mioargs\u001b[39m.\u001b[39;49mencoding,\n\u001b[0;32m    790\u001b[0m             errors\u001b[39m=\u001b[39;49merrors,\n\u001b[0;32m    791\u001b[0m             newline\u001b[39m=\u001b[39;49m\u001b[39m\"\u001b[39;49m\u001b[39m\"\u001b[39;49m,\n\u001b[0;32m    792\u001b[0m         )\n\u001b[0;32m    793\u001b[0m     \u001b[39melse\u001b[39;00m:\n\u001b[0;32m    794\u001b[0m         \u001b[39m# Binary mode\u001b[39;00m\n\u001b[0;32m    795\u001b[0m         handle \u001b[39m=\u001b[39m \u001b[39mopen\u001b[39m(handle, ioargs\u001b[39m.\u001b[39mmode)\n",
            "\u001b[1;31mFileNotFoundError\u001b[0m: [Errno 2] No such file or directory: '/content/Training.csv'"
          ]
        }
      ],
      "source": [
        "training = pd.read_csv('/content/Training.csv')\n",
        "testing= pd.read_csv('/content/Testing.csv')\n",
        "cols= training.columns\n",
        "cols= cols[:-1]\n",
        "x = training[cols]\n",
        "y = training['prognosis']\n",
        "y1= y"
      ]
    },
    {
      "cell_type": "code",
      "execution_count": null,
      "metadata": {
        "id": "ZeL1BBLjBcKO"
      },
      "outputs": [],
      "source": [
        "reduced_data = training.groupby(training['prognosis']).max()\n",
        "\n",
        "#mapping strings to numbers\n",
        "le = preprocessing.LabelEncoder()\n",
        "le.fit(y)\n",
        "y = le.transform(y)\n",
        "\n",
        "\n",
        "x_train, x_test, y_train, y_test = train_test_split(x, y, test_size=0.33, random_state=42)\n",
        "testx    = testing[cols]\n",
        "testy    = testing['prognosis']  \n",
        "testy    = le.transform(testy)\n"
      ]
    },
    {
      "cell_type": "code",
      "execution_count": null,
      "metadata": {
        "colab": {
          "base_uri": "https://localhost:8080/"
        },
        "id": "e3OQdG8LBqVs",
        "outputId": "a4594446-ef80-44a9-f22d-d10ab2ac37ae"
      },
      "outputs": [
        {
          "name": "stdout",
          "output_type": "stream",
          "text": [
            "0.973526315669811\n"
          ]
        }
      ],
      "source": [
        "clf1  = DecisionTreeClassifier()\n",
        "clf = clf1.fit(x_train,y_train)\n",
        "# print(clf.score(x_train,y_train))\n",
        "# print (\"cross result========\")\n",
        "scores = cross_val_score(clf, x_test, y_test, cv=3)\n",
        "# print (scores)\n",
        "print (scores.mean())"
      ]
    },
    {
      "cell_type": "code",
      "execution_count": null,
      "metadata": {
        "colab": {
          "base_uri": "https://localhost:8080/"
        },
        "id": "3XxR3MN2DIzs",
        "outputId": "0472e82d-3269-471e-b8dc-092874881a94"
      },
      "outputs": [
        {
          "name": "stdout",
          "output_type": "stream",
          "text": [
            "for svm: \n",
            "1.0\n"
          ]
        }
      ],
      "source": [
        "model=SVC()\n",
        "model.fit(x_train,y_train)\n",
        "print(\"for svm: \")\n",
        "print(model.score(x_test,y_test))"
      ]
    },
    {
      "cell_type": "code",
      "execution_count": null,
      "metadata": {
        "id": "XxzN8ZF3DNZy"
      },
      "outputs": [],
      "source": [
        "importances = clf.feature_importances_\n",
        "indices = np.argsort(importances)[::-1]\n",
        "features = cols"
      ]
    },
    {
      "cell_type": "code",
      "execution_count": null,
      "metadata": {
        "id": "0NhVw1PADQzF"
      },
      "outputs": [],
      "source": [
        "def readn(nstr):\n",
        "    engine = pyttsx3.init()\n",
        "\n",
        "    engine.setProperty('voice', \"english+f5\")\n",
        "    engine.setProperty('rate', 130)\n",
        "\n",
        "    engine.say(nstr)\n",
        "    engine.runAndWait()\n",
        "    engine.stop()"
      ]
    },
    {
      "cell_type": "code",
      "execution_count": null,
      "metadata": {
        "id": "3z0EwN8uEJVL"
      },
      "outputs": [],
      "source": [
        "severityDictionary=dict()\n",
        "description_list = dict()\n",
        "precautionDictionary=dict()"
      ]
    },
    {
      "cell_type": "code",
      "execution_count": null,
      "metadata": {
        "id": "wRD4vmGhEOdz"
      },
      "outputs": [],
      "source": [
        "symptoms_dict = {}"
      ]
    },
    {
      "cell_type": "code",
      "execution_count": null,
      "metadata": {
        "id": "VrzDmqICEUTp"
      },
      "outputs": [],
      "source": [
        "for index, symptom in enumerate(x):\n",
        "       symptoms_dict[symptom] = index\n",
        "def calc_condition(exp,days):\n",
        "    sum=0\n",
        "    for item in exp:\n",
        "         sum=sum+severityDictionary[item]\n",
        "    if((sum*days)/(len(exp)+1)>13):\n",
        "        print(\"You should take the consultation from doctor. \")\n",
        "    else:\n",
        "        print(\"It might not be that bad but you should take precautions.\")\n"
      ]
    },
    {
      "cell_type": "code",
      "execution_count": null,
      "metadata": {
        "id": "xxmiyAPMEZ0U"
      },
      "outputs": [],
      "source": [
        "def getDescription():\n",
        "    global description_list\n",
        "    with open('MasterData/symptom_Description.csv') as csv_file:\n",
        "        csv_reader = csv.reader(csv_file, delimiter=',')\n",
        "        line_count = 0\n",
        "        for row in csv_reader:\n",
        "            _description={row[0]:row[1]}\n",
        "            description_list.update(_description)"
      ]
    },
    {
      "cell_type": "code",
      "execution_count": null,
      "metadata": {
        "id": "BloxgEuUEdDH"
      },
      "outputs": [],
      "source": [
        "def getSeverityDict():\n",
        "    global severityDictionary\n",
        "    with open('MasterData/symptom_severity.csv') as csv_file:\n",
        "\n",
        "        csv_reader = csv.reader(csv_file, delimiter=',')\n",
        "        line_count = 0\n",
        "        try:\n",
        "            for row in csv_reader:\n",
        "                _diction={row[0]:int(row[1])}\n",
        "                severityDictionary.update(_diction)\n",
        "        except:\n",
        "            pass"
      ]
    },
    {
      "cell_type": "code",
      "execution_count": null,
      "metadata": {
        "id": "3PDEYVG5EgCs"
      },
      "outputs": [],
      "source": [
        "def getprecautionDict():\n",
        "    global precautionDictionary\n",
        "    with open('MasterData/symptom_precaution.csv') as csv_file:\n",
        "\n",
        "        csv_reader = csv.reader(csv_file, delimiter=',')\n",
        "        line_count = 0\n",
        "        for row in csv_reader:\n",
        "            _prec={row[0]:[row[1],row[2],row[3],row[4]]}\n",
        "            precautionDictionary.update(_prec)"
      ]
    },
    {
      "cell_type": "code",
      "execution_count": null,
      "metadata": {
        "id": "zgl_2iLLEk6p"
      },
      "outputs": [],
      "source": [
        "def getInfo():\n",
        "    print(\"-----------------------------------HealthCare ChatBot-----------------------------------\")\n",
        "    print(\"\\nYour Name? \\t\\t\\t\\t\",end=\"->\")\n",
        "    name=input(\"\")\n",
        "    print(\"Hello, \",name)"
      ]
    },
    {
      "cell_type": "code",
      "execution_count": null,
      "metadata": {
        "id": "kMLY2WNgEo7R"
      },
      "outputs": [],
      "source": [
        "def check_pattern(dis_list,inp):\n",
        "    pred_list=[]\n",
        "    inp=inp.replace(' ','_')\n",
        "    patt = f\"{inp}\"\n",
        "    regexp = re.compile(patt)\n",
        "    pred_list=[item for item in dis_list if regexp.search(item)]\n",
        "    if(len(pred_list)>0):\n",
        "        return 1,pred_list\n",
        "    else:\n",
        "        return 0,[]"
      ]
    },
    {
      "cell_type": "code",
      "execution_count": null,
      "metadata": {
        "id": "2tzAx1Y9Es-1"
      },
      "outputs": [],
      "source": [
        "def sec_predict(symptoms_exp):\n",
        "    df = pd.read_csv('Data/Training.csv')\n",
        "    X = df.iloc[:, :-1]\n",
        "    y = df['prognosis']\n",
        "    X_train, X_test, y_train, y_test = train_test_split(X, y, test_size=0.3, random_state=20)\n",
        "    rf_clf = DecisionTreeClassifier()\n",
        "    rf_clf.fit(X_train, y_train)\n",
        "    symptoms_dict = {symptom: index for index, symptom in enumerate(X)}\n",
        "    input_vector = np.zeros(len(symptoms_dict))\n",
        "    for item in symptoms_exp:\n",
        "      input_vector[[symptoms_dict[item]]] = 1\n",
        "\n",
        "    return rf_clf.predict([input_vector])"
      ]
    },
    {
      "cell_type": "code",
      "execution_count": null,
      "metadata": {
        "id": "Hhi6AtiAE1lx"
      },
      "outputs": [],
      "source": [
        "def print_disease(node):\n",
        "    node = node[0]\n",
        "    val  = node.nonzero() \n",
        "    disease = le.inverse_transform(val[0])\n",
        "    return list(map(lambda x:x.strip(),list(disease)))"
      ]
    },
    {
      "cell_type": "code",
      "execution_count": null,
      "metadata": {
        "colab": {
          "base_uri": "https://localhost:8080/"
        },
        "id": "0IbXUYcbGAVY",
        "outputId": "7fab90ef-79c0-45ce-f8a0-c184d6003fd4"
      },
      "outputs": [
        {
          "name": "stdout",
          "output_type": "stream",
          "text": [
            "Okay. From how many days ? : 5\n"
          ]
        }
      ],
      "source": [
        "   def tree_to_code(tree, feature_names):\n",
        "    tree_ = tree.tree_\n",
        "    feature_name = [\n",
        "        feature_names[i] if i != tree_.TREE_UNDEFINED else \"undefined!\"\n",
        "        for i in tree_.feature\n",
        "    ]\n",
        "\n",
        "    chk_dis=\",\".join(feature_names).split(\",\")\n",
        "    symptoms_present = []\n",
        "    while True:\n",
        "\n",
        "        print(\"\\nEnter the symptom you are experiencing  \\t\\t\",end=\"->\")\n",
        "        disease_input = input(\"\")\n",
        "        conf,cnf_dis=check_pattern(chk_dis,disease_input)\n",
        "        if conf==1:\n",
        "            print(\"searches related to input: \")\n",
        "            for num,i in enumerate(cnf_dis):\n",
        "                print(num,\")\",i)\n",
        "            if num!=0:\n",
        "                print(\"Select the one you meant (0 - {num}):  \", end=\"\")\n",
        "                conf_inp = int(input(\"\"))\n",
        "            else:\n",
        "                conf_inp=0\n",
        "\n",
        "            disease_input=cnf_dis[conf_inp]\n",
        "            break\n",
        "            # print(\"Did you mean: \",cnf_dis,\"?(yes/no) :\",end=\"\")\n",
        "            # conf_inp = input(\"\")\n",
        "            # if(conf_inp==\"yes\"):\n",
        "            #     break\n",
        "        else:\n",
        "            print(\"Enter valid symptom.\")\n",
        "\n",
        "while True:\n",
        "    try:\n",
        "        num_days=int(input(\"Okay. From how many days ? : \"))\n",
        "        break\n",
        "    except:\n",
        "        print(\"Enter valid input.\")\n",
        "def recurse(node, depth):\n",
        "    indent = \"  \" * depth\n",
        "    if tree_.feature[node] != tree_.TREE_UNDEFINED:\n",
        "        name = feature_name[node]\n",
        "        threshold = tree_.threshold[node]\n",
        "\n",
        "        if name == disease_input:\n",
        "            val = 1\n",
        "        else:\n",
        "            val = 0\n",
        "        if  val <= threshold:\n",
        "            recurse(tree_.children_left[node], depth + 1)\n",
        "        else:\n",
        "            symptoms_present.append(name)\n",
        "            recurse(tree_.children_right[node], depth + 1)\n",
        "    else:\n",
        "        present_disease = print_disease(tree_.value[node])\n",
        "        # print( \"You may have \" +  present_disease )\n",
        "        red_cols = reduced_data.columns \n",
        "        symptoms_given = red_cols[reduced_data.loc[present_disease].values[0].nonzero()]\n",
        "        # dis_list=list(symptoms_present)\n",
        "        # if len(dis_list)!=0:\n",
        "        #     print(\"symptoms present  \" + str(list(symptoms_present)))\n",
        "        # print(\"symptoms given \"  +  str(list(symptoms_given)) )\n",
        "        print(\"Are you experiencing any \")\n",
        "        symptoms_exp=[]\n",
        "        for syms in list(symptoms_given):\n",
        "            inp=\"\"\n",
        "            print(syms,\"? : \",end='')\n",
        "            while True:\n",
        "                inp=input(\"\")\n",
        "                if(inp==\"yes\" or inp==\"no\"):\n",
        "                    break\n",
        "                else:\n",
        "                    print(\"provide proper answers i.e. (yes/no) : \",end=\"\")\n",
        "            if(inp==\"yes\"):\n",
        "                symptoms_exp.append(syms)\n",
        "\n",
        "        second_prediction=sec_predict(symptoms_exp)\n",
        "        # print(second_prediction)\n",
        "        calc_condition(symptoms_exp,num_days)\n",
        "        if(present_disease[0]==second_prediction[0]):\n",
        "            print(\"You may have \", present_disease[0])\n",
        "            print(description_list[present_disease[0]])\n",
        "\n",
        "            # readn(f\"You may have {present_disease[0]}\")\n",
        "            # readn(f\"{description_list[present_disease[0]]}\")\n",
        "\n",
        "        else:\n",
        "            print(\"You may have \", present_disease[0], \"or \", second_prediction[0])\n",
        "            print(description_list[present_disease[0]])\n",
        "            print(description_list[second_prediction[0]])\n",
        "\n",
        "        # print(description_list[present_disease[0]])\n",
        "        precution_list=precautionDictionary[present_disease[0]]\n",
        "        print(\"Take following measures : \")\n",
        "        for  i,j in enumerate(precution_list):\n",
        "            print(i+1,\")\",j)\n",
        "\n",
        "        # confidence_level = (1.0*len(symptoms_present))/len(symptoms_given)\n",
        "        # print(\"confidence level is \" + str(confidence_level))\n"
      ]
    },
    {
      "cell_type": "code",
      "execution_count": null,
      "metadata": {
        "id": "ZJFceMaEGGp5"
      },
      "outputs": [],
      "source": [
        "def recurse(a=0, b=1):\n",
        "  getSeverityDict()\n",
        "  getDescription()\n",
        "  getprecautionDict()\n",
        "  getInfo()\n",
        "  tree_to_code(clf,cols)\n",
        "  print(\"----------------------------------------------------------------------------------------\")\n",
        "\n"
      ]
    }
  ],
  "metadata": {
    "colab": {
      "collapsed_sections": [],
      "provenance": []
    },
    "kernelspec": {
      "display_name": "Python 3.10.6 64-bit",
      "language": "python",
      "name": "python3"
    },
    "language_info": {
      "codemirror_mode": {
        "name": "ipython",
        "version": 3
      },
      "file_extension": ".py",
      "mimetype": "text/x-python",
      "name": "python",
      "nbconvert_exporter": "python",
      "pygments_lexer": "ipython3",
      "version": "3.10.6"
    },
    "vscode": {
      "interpreter": {
        "hash": "dd000a65fbd8c0292909276ca86d80f5c4ffbf586225dd936f032f69f5b2ad71"
      }
    }
  },
  "nbformat": 4,
  "nbformat_minor": 0
}
